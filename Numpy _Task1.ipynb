{
 "cells": [
  {
   "cell_type": "markdown",
   "metadata": {},
   "source": [
    "# Reading Recipes \n",
    "\n",
    "Note: Data file is recipes.csv Attached with jupyter notebook"
   ]
  },
  {
   "cell_type": "raw",
   "metadata": {},
   "source": [
    "1. Start by importing NumPy as np"
   ]
  },
  {
   "cell_type": "code",
   "execution_count": 3,
   "metadata": {},
   "outputs": [],
   "source": [
    "import numpy as np\n"
   ]
  },
  {
   "cell_type": "markdown",
   "metadata": {},
   "source": [
    "2. All of Alize’s recipes call for milk, eggs, sugar, flour, and butter. For example, her cupcake recipe calls for:\n",
    "\n",
    "Flour Sugar Eggs Milk Butter 2 cups 0.75 cups 2 eggs 1 cups 0.5 cups Create a NumPy array that represents this data. Each element should be a number (i.e., 2 for “2 cups”). Save this array as cupcakes."
   ]
  },
  {
   "cell_type": "code",
   "execution_count": 4,
   "metadata": {},
   "outputs": [],
   "source": [
    " cupcakes=np.array([2,0.75,2,1,0.5])\n"
   ]
  },
  {
   "cell_type": "markdown",
   "metadata": {},
   "source": [
    "3. Alize’s assistant has compiled all of her recipes into a csv (comma-separated variable) file called recipes.csv. Load this file into a variable called recipes.\n",
    "\n",
    "###########Explore yourselves how to load a csv file in numpy#######"
   ]
  },
  {
   "cell_type": "code",
   "execution_count": 5,
   "metadata": {},
   "outputs": [
    {
     "data": {
      "text/plain": [
       "array([[2.   , 0.75 , 2.   , 1.   , 0.5  ],\n",
       "       [1.   , 0.125, 1.   , 1.   , 0.125],\n",
       "       [2.75 , 1.5  , 1.   , 0.   , 1.   ],\n",
       "       [4.   , 0.5  , 2.   , 2.   , 0.5  ]])"
      ]
     },
     "execution_count": 5,
     "metadata": {},
     "output_type": "execute_result"
    }
   ],
   "source": [
    "import csv\n",
    "from numpy import genfromtxt\n",
    "recipes = genfromtxt (\"recipes.csv\", delimiter=\",\")\n",
    "recipes = np.array(recipes)\n",
    "recipes"
   ]
  },
  {
   "cell_type": "markdown",
   "metadata": {},
   "source": [
    "4.Display recipes using print.\n",
    "Display recipes using print.\n",
    "\n",
    "\n",
    "Each row represents a different recipe. Each column represents a different ingredient.\n",
    "\n",
    "Recipe\t       Cups of Flour\tCups of Sugar\tEggs\tCups of Milk\tCups of Butter\n",
    "\n",
    "Cupcakes\t         …\t              …\t          …\t         …\t              …\n",
    "\n",
    "Pancake\t             …                …\t          …\t         …\t              …\n",
    "\n",
    "Cookie\t             …\t              …\t          …\t         …\t              …\n",
    "\n",
    "Bread\t             …\t              …\t          …\t         …\t              …"
   ]
  },
  {
   "cell_type": "code",
   "execution_count": 6,
   "metadata": {},
   "outputs": [
    {
     "name": "stdout",
     "output_type": "stream",
     "text": [
      "Recipes Cups of flour Cups of sugar Eggs Cups of milk Cups of Better \n",
      "Cupcakes 2.0 0.75 2.0 1.0 0.5\n",
      "Pancake  1.0 0.125 1.0 1.0 0.125\n",
      "Cookie   2.75 0.125 1.0 0.0 1.0\n",
      "Bread    4.0 0.125 2.0 2.0 0.5\n"
     ]
    }
   ],
   "source": [
    "print(\"Recipes Cups of flour Cups of sugar Eggs Cups of milk Cups of Better \")\n",
    "print(f\"Cupcakes {recipes[0][0]} {recipes[0][1]} {recipes[0][2]} {recipes[0][3]} {recipes[0][4]}\")\n",
    "print(f\"Pancake  {recipes[1][0]} {recipes[1][1]} {recipes[1][2]} {recipes[1][3]} {recipes[1][4]}\")\n",
    "print(f\"Cookie   {recipes[2][0]} {recipes[1][1]} {recipes[2][2]} {recipes[2][3]} {recipes[2][4]}\")\n",
    "print(f\"Bread    {recipes[3][0]} {recipes[1][1]} {recipes[3][2]} {recipes[3][3]} {recipes[3][4]}\")\n",
    "\n",
    " "
   ]
  },
  {
   "cell_type": "markdown",
   "metadata": {},
   "source": [
    "5.The 3rd column represents the number of eggs that each recipe needs.\n",
    "\n",
    "Select all elements from the 3rd column and save them to the variable eggs."
   ]
  },
  {
   "cell_type": "code",
   "execution_count": 7,
   "metadata": {},
   "outputs": [
    {
     "data": {
      "text/plain": [
       "array([[1.],\n",
       "       [1.],\n",
       "       [0.],\n",
       "       [2.]])"
      ]
     },
     "execution_count": 7,
     "metadata": {},
     "output_type": "execute_result"
    }
   ],
   "source": [
    "eggs=recipes[:,3:4]\n",
    "eggs\n"
   ]
  },
  {
   "cell_type": "markdown",
   "metadata": {},
   "source": [
    "6.Which recipes require exactly 1 egg? Use a logical statement to get True or False for each value of eggs."
   ]
  },
  {
   "cell_type": "code",
   "execution_count": 8,
   "metadata": {},
   "outputs": [
    {
     "name": "stdout",
     "output_type": "stream",
     "text": [
      "Those recipes required only 1 egg are: ['Cupcakes' 'Pancake']\n",
      "Those recipes required not only 1 egg are: ['Cookie' 'Bread']\n"
     ]
    },
    {
     "data": {
      "text/plain": [
       "array([[ True],\n",
       "       [ True],\n",
       "       [False],\n",
       "       [False]])"
      ]
     },
     "execution_count": 8,
     "metadata": {},
     "output_type": "execute_result"
    }
   ],
   "source": [
    "recipes_name = np.array([[\"Cupcakes\",\"Pancake\",\"Cookie\",\"Bread\"]])\n",
    "print(\"Those recipes required only 1 egg are:\",recipes_name[(eggs==1).T])\n",
    "print(\"Those recipes required not only 1 egg are:\",recipes_name[(eggs!=1).T])\n",
    "eggs==1"
   ]
  },
  {
   "cell_type": "markdown",
   "metadata": {},
   "source": [
    "7.Alize is going to make 2 batches of cupcakes (1st row) and 1 batch of cookies (3rd row).\n",
    "\n",
    "You already have a variable for cupcakes. Create a variable for cookies with the data from the 3rd row.\n"
   ]
  },
  {
   "cell_type": "code",
   "execution_count": 9,
   "metadata": {},
   "outputs": [
    {
     "data": {
      "text/plain": [
       "array([4. , 0.5, 2. , 2. , 0.5])"
      ]
     },
     "execution_count": 9,
     "metadata": {},
     "output_type": "execute_result"
    }
   ],
   "source": [
    "#type your code here\n",
    "d=recipes[3,:]\n",
    "d"
   ]
  },
  {
   "cell_type": "markdown",
   "metadata": {},
   "source": [
    "8.\n",
    "Get the number of ingredients for a double batch of cupcakes by using multiplication on cupcakes. Save your new variable to double_batch."
   ]
  },
  {
   "cell_type": "code",
   "execution_count": 10,
   "metadata": {},
   "outputs": [
    {
     "data": {
      "text/plain": [
       "array([4. , 1.5, 4. , 2. , 1. ])"
      ]
     },
     "execution_count": 10,
     "metadata": {},
     "output_type": "execute_result"
    }
   ],
   "source": [
    "Cupcakes=recipes[0]\n",
    "double_batch = Cupcakes*2\n",
    "double_batch\n",
    "\n"
   ]
  },
  {
   "cell_type": "markdown",
   "metadata": {},
   "source": [
    "9.\n",
    "Create a new variable called grocery_list by adding cookies and double_batch."
   ]
  },
  {
   "cell_type": "code",
   "execution_count": 11,
   "metadata": {},
   "outputs": [],
   "source": [
    "#type your code here\n",
    "Cookies = recipes[2]\n",
    "grocery_list = Cookies + double_batch"
   ]
  },
  {
   "cell_type": "code",
   "execution_count": null,
   "metadata": {},
   "outputs": [],
   "source": []
  },
  {
   "cell_type": "code",
   "execution_count": null,
   "metadata": {},
   "outputs": [],
   "source": []
  },
  {
   "cell_type": "code",
   "execution_count": null,
   "metadata": {},
   "outputs": [],
   "source": []
  }
 ],
 "metadata": {
  "kernelspec": {
   "display_name": "Python 3",
   "language": "python",
   "name": "python3"
  },
  "language_info": {
   "codemirror_mode": {
    "name": "ipython",
    "version": 3
   },
   "file_extension": ".py",
   "mimetype": "text/x-python",
   "name": "python",
   "nbconvert_exporter": "python",
   "pygments_lexer": "ipython3",
   "version": "3.7.6"
  }
 },
 "nbformat": 4,
 "nbformat_minor": 2
}
